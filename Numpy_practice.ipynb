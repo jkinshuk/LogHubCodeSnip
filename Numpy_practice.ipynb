{
  "nbformat": 4,
  "nbformat_minor": 0,
  "metadata": {
    "colab": {
      "provenance": [],
      "authorship_tag": "ABX9TyOlsSu2PsZW2gfYs6o1JCPk",
      "include_colab_link": true
    },
    "kernelspec": {
      "name": "python3",
      "display_name": "Python 3"
    },
    "language_info": {
      "name": "python"
    }
  },
  "cells": [
    {
      "cell_type": "markdown",
      "metadata": {
        "id": "view-in-github",
        "colab_type": "text"
      },
      "source": [
        "<a href=\"https://colab.research.google.com/github/jkinshuk/LogHubCodeSnip/blob/Snippet/Numpy_practice.ipynb\" target=\"_parent\"><img src=\"https://colab.research.google.com/assets/colab-badge.svg\" alt=\"Open In Colab\"/></a>"
      ]
    },
    {
      "cell_type": "code",
      "execution_count": 1,
      "metadata": {
        "id": "9tTP6CZLVmLI"
      },
      "outputs": [],
      "source": [
        "import numpy as np\n",
        "import pandas as pd"
      ]
    },
    {
      "cell_type": "code",
      "source": [
        "x = [1 ,2 ,3 , 4]\n",
        "\n",
        "y = np.array(x)\n",
        "print(y)\n",
        "print(type(y))\n",
        "\n"
      ],
      "metadata": {
        "colab": {
          "base_uri": "https://localhost:8080/"
        },
        "id": "8sXv-IMzVtYt",
        "outputId": "663ae391-c428-43b3-bfce-873bcecb2bc6"
      },
      "execution_count": 2,
      "outputs": [
        {
          "output_type": "stream",
          "name": "stdout",
          "text": [
            "[1 2 3 4]\n",
            "<class 'numpy.ndarray'>\n"
          ]
        }
      ]
    },
    {
      "cell_type": "code",
      "source": [
        "l = []\n",
        "for i in range(1 , 5):\n",
        "  int_l = int(input(\"Enter the no : \"))\n",
        "  l.append(int_l)\n",
        "\n",
        "print(l)\n"
      ],
      "metadata": {
        "colab": {
          "base_uri": "https://localhost:8080/"
        },
        "id": "Ldt9_6pGWFjy",
        "outputId": "9039d5e2-0b82-42c3-a3d0-d0b9d714130d"
      },
      "execution_count": 3,
      "outputs": [
        {
          "output_type": "stream",
          "name": "stdout",
          "text": [
            "Enter the no : 12\n",
            "Enter the no : 13\n",
            "Enter the no : 14\n",
            "Enter the no : 15\n",
            "[12, 13, 14, 15]\n"
          ]
        }
      ]
    },
    {
      "cell_type": "code",
      "source": [
        "arr1 = np.array([[1 ,2 , 3]  , [4 , 5, 6]])\n",
        "print(arr1)\n",
        "\n",
        "print(f\"The dimension : {arr1.ndim}\")\n"
      ],
      "metadata": {
        "colab": {
          "base_uri": "https://localhost:8080/"
        },
        "id": "90OA9MAyWcVk",
        "outputId": "b10136df-7535-4dbc-9d3a-1bf47ebb017b"
      },
      "execution_count": 5,
      "outputs": [
        {
          "output_type": "stream",
          "name": "stdout",
          "text": [
            "[[1 2 3]\n",
            " [4 5 6]]\n",
            "The dimension : 2\n"
          ]
        }
      ]
    },
    {
      "cell_type": "code",
      "source": [
        "j = np.array([[[1, 2, 3, 4, 5], [12, 13, 14, 15 , 16], [1, 2, 3, 4, 5], [23, 45 , 55 , 65 , 75]]])\n",
        "print(j)\n",
        "print(f\"The dimension: {j.ndim}\")\n"
      ],
      "metadata": {
        "colab": {
          "base_uri": "https://localhost:8080/"
        },
        "id": "cSK1gjy6W9y7",
        "outputId": "ae6dbd48-fced-4e08-f7f5-3cf98ab71c64"
      },
      "execution_count": 12,
      "outputs": [
        {
          "output_type": "stream",
          "name": "stdout",
          "text": [
            "[[[ 1  2  3  4  5]\n",
            "  [12 13 14 15 16]\n",
            "  [ 1  2  3  4  5]\n",
            "  [23 45 55 65 75]]]\n",
            "The dimension: 3\n"
          ]
        }
      ]
    },
    {
      "cell_type": "code",
      "source": [
        "nums = np.array([1 ,2 ,3 , 4] , ndmin = 10)\n",
        "print(nums)\n",
        "value = nums.ndim\n",
        "print(f\"The dimensions {value}\")"
      ],
      "metadata": {
        "colab": {
          "base_uri": "https://localhost:8080/"
        },
        "id": "1K0grKN1Xj9f",
        "outputId": "3d71aa52-548c-4696-b2b0-3b3d281f46fb"
      },
      "execution_count": 14,
      "outputs": [
        {
          "output_type": "stream",
          "name": "stdout",
          "text": [
            "[[[[[[[[[[1 2 3 4]]]]]]]]]]\n",
            "The dimensions 10\n"
          ]
        }
      ]
    },
    {
      "cell_type": "code",
      "source": [
        "arzero = np.zeros(4)\n",
        "hui = np.zeros((3 , 4))\n",
        "\n",
        "print(arzero)\n",
        "print(arzero.ndim)\n",
        "print(type(arzero))\n",
        "\n",
        "\n",
        "print(hui)\n",
        "print(hui.ndim)\n",
        "print(type(hui))\n"
      ],
      "metadata": {
        "colab": {
          "base_uri": "https://localhost:8080/"
        },
        "id": "5xaqXY_fZJCb",
        "outputId": "239321ae-b4dd-426d-f019-e38b3d063228"
      },
      "execution_count": 17,
      "outputs": [
        {
          "output_type": "stream",
          "name": "stdout",
          "text": [
            "[0. 0. 0. 0.]\n",
            "1\n",
            "<class 'numpy.ndarray'>\n",
            "[[0. 0. 0. 0.]\n",
            " [0. 0. 0. 0.]\n",
            " [0. 0. 0. 0.]]\n",
            "2\n",
            "<class 'numpy.ndarray'>\n"
          ]
        }
      ]
    },
    {
      "cell_type": "code",
      "source": [
        "#ones"
      ],
      "metadata": {
        "id": "f1klZ0A4ZsaG"
      },
      "execution_count": 18,
      "outputs": []
    },
    {
      "cell_type": "code",
      "source": [
        "ar_one = np.ones(4)\n",
        "print(ar_one)"
      ],
      "metadata": {
        "colab": {
          "base_uri": "https://localhost:8080/"
        },
        "id": "LPI60S1iaJxW",
        "outputId": "62ed4214-07fd-4224-a82f-a1fd6e511d0a"
      },
      "execution_count": 19,
      "outputs": [
        {
          "output_type": "stream",
          "name": "stdout",
          "text": [
            "[1. 1. 1. 1.]\n"
          ]
        }
      ]
    },
    {
      "cell_type": "code",
      "source": [
        "c = np.empty(4)\n",
        "print(c)\n",
        "print(c.ndim)\n",
        "print(type(c))\n"
      ],
      "metadata": {
        "colab": {
          "base_uri": "https://localhost:8080/"
        },
        "id": "2WRBCcvQaT5A",
        "outputId": "255695ea-5bf5-46f8-9710-f796d2e1ad57"
      },
      "execution_count": 20,
      "outputs": [
        {
          "output_type": "stream",
          "name": "stdout",
          "text": [
            "[1. 1. 1. 1.]\n",
            "1\n",
            "<class 'numpy.ndarray'>\n"
          ]
        }
      ]
    },
    {
      "cell_type": "code",
      "source": [
        "array_rn = np.arange(4)\n",
        "print(array_rn)\n",
        "print(array_rn.ndim)\n",
        "print(type(array_rn))"
      ],
      "metadata": {
        "colab": {
          "base_uri": "https://localhost:8080/"
        },
        "id": "UgavlUWgasID",
        "outputId": "26f59ce3-b4a7-4e85-bd76-024d5dc3eb85"
      },
      "execution_count": 24,
      "outputs": [
        {
          "output_type": "stream",
          "name": "stdout",
          "text": [
            "[0 1 2 3]\n",
            "1\n",
            "<class 'numpy.ndarray'>\n"
          ]
        }
      ]
    },
    {
      "cell_type": "code",
      "source": [
        "ar_dimension = np.eye(3)\n",
        "ar_dim = np.eye(3,5)"
      ],
      "metadata": {
        "id": "ZCsnfm7abDc9"
      },
      "execution_count": 28,
      "outputs": []
    },
    {
      "cell_type": "code",
      "source": [
        "print(ar_dimension)\n",
        "print(ar_dim)"
      ],
      "metadata": {
        "colab": {
          "base_uri": "https://localhost:8080/"
        },
        "id": "xVoH9c8xbZ-S",
        "outputId": "69ab5fc4-8889-45b5-8318-f0f98b519d16"
      },
      "execution_count": 29,
      "outputs": [
        {
          "output_type": "stream",
          "name": "stdout",
          "text": [
            "[[1. 0. 0.]\n",
            " [0. 1. 0.]\n",
            " [0. 0. 1.]]\n",
            "[[1. 0. 0. 0. 0.]\n",
            " [0. 1. 0. 0. 0.]\n",
            " [0. 0. 1. 0. 0.]]\n"
          ]
        }
      ]
    },
    {
      "cell_type": "code",
      "source": [
        "print(ar_dimension.ndim)\n",
        "print(ar_dim.ndim)\n",
        "print(type(ar_dimension))\n",
        "print(type(ar_dim))"
      ],
      "metadata": {
        "colab": {
          "base_uri": "https://localhost:8080/"
        },
        "id": "L2bcbEtEbcyO",
        "outputId": "256fe710-7562-4826-e9b4-f2ad35d5b78d"
      },
      "execution_count": 30,
      "outputs": [
        {
          "output_type": "stream",
          "name": "stdout",
          "text": [
            "2\n",
            "2\n",
            "<class 'numpy.ndarray'>\n",
            "<class 'numpy.ndarray'>\n"
          ]
        }
      ]
    },
    {
      "cell_type": "code",
      "source": [
        "arr_lin = np.linspace(0 , 90, num = 5)\n",
        "print(arr_lin)\n"
      ],
      "metadata": {
        "colab": {
          "base_uri": "https://localhost:8080/"
        },
        "id": "zMZHYjjYbkO7",
        "outputId": "5f25c622-5fe8-4e51-c911-23774b33a72d"
      },
      "execution_count": 32,
      "outputs": [
        {
          "output_type": "stream",
          "name": "stdout",
          "text": [
            "[ 0.  22.5 45.  67.5 90. ]\n"
          ]
        }
      ]
    },
    {
      "cell_type": "code",
      "source": [
        "var = np.random.rand(4)\n",
        "print(var)"
      ],
      "metadata": {
        "colab": {
          "base_uri": "https://localhost:8080/"
        },
        "id": "dxCkwpbAcWMu",
        "outputId": "3a7b6f55-ad07-4cd4-8cae-f5e39629dc74"
      },
      "execution_count": 33,
      "outputs": [
        {
          "output_type": "stream",
          "name": "stdout",
          "text": [
            "[0.84735148 0.85930846 0.75382237 0.72332913]\n"
          ]
        }
      ]
    },
    {
      "cell_type": "code",
      "source": [
        "print(type(var))"
      ],
      "metadata": {
        "colab": {
          "base_uri": "https://localhost:8080/"
        },
        "id": "8BjjT47Sd_x3",
        "outputId": "3d9e574a-670f-4dd6-abbf-fd11d4922b8b"
      },
      "execution_count": 34,
      "outputs": [
        {
          "output_type": "stream",
          "name": "stdout",
          "text": [
            "<class 'numpy.ndarray'>\n"
          ]
        }
      ]
    },
    {
      "cell_type": "code",
      "source": [
        "hj = np.random.rand(56)\n",
        "print(hj)"
      ],
      "metadata": {
        "colab": {
          "base_uri": "https://localhost:8080/"
        },
        "id": "3cCRZRu9eD9-",
        "outputId": "89acaa88-f3bd-4c63-aaf1-9c7c64f4e0ae"
      },
      "execution_count": 35,
      "outputs": [
        {
          "output_type": "stream",
          "name": "stdout",
          "text": [
            "[0.8229511  0.60287453 0.66189103 0.66229622 0.88803657 0.48779908\n",
            " 0.90977025 0.05969628 0.4368888  0.49146842 0.64998427 0.95932272\n",
            " 0.94401651 0.15176482 0.15226947 0.52521982 0.29973745 0.98103303\n",
            " 0.10811164 0.57138427 0.56046351 0.66728992 0.94202428 0.30381635\n",
            " 0.52498435 0.12585135 0.246639   0.48260195 0.51557828 0.34328703\n",
            " 0.00102792 0.37091946 0.45708833 0.14902645 0.70286507 0.86888427\n",
            " 0.72262424 0.77807069 0.0029968  0.03324803 0.80647629 0.8962367\n",
            " 0.22694102 0.772872   0.40578711 0.11060419 0.02197585 0.19717794\n",
            " 0.08299727 0.71088711 0.31204042 0.82122453 0.55646155 0.52183774\n",
            " 0.60456941 0.42397442]\n"
          ]
        }
      ]
    },
    {
      "cell_type": "code",
      "source": [
        "dfdj = np.random.rand(124)\n",
        "print(dfdj)"
      ],
      "metadata": {
        "colab": {
          "base_uri": "https://localhost:8080/"
        },
        "id": "Qn73IKFIeQKs",
        "outputId": "091bedbf-edb9-4ec8-de23-a61a43b42e53"
      },
      "execution_count": 36,
      "outputs": [
        {
          "output_type": "stream",
          "name": "stdout",
          "text": [
            "[0.54813956 0.53234553 0.87255959 0.64563911 0.69360004 0.43047035\n",
            " 0.79247422 0.40872903 0.01238866 0.37273994 0.56204169 0.97970757\n",
            " 0.51818468 0.90288141 0.26394177 0.11755197 0.24867236 0.37862761\n",
            " 0.20560337 0.44897632 0.52586144 0.68969279 0.89052881 0.25184363\n",
            " 0.55985363 0.44759668 0.47600123 0.41641682 0.20303581 0.13567666\n",
            " 0.53798316 0.92319117 0.86049845 0.21315725 0.78387542 0.72338144\n",
            " 0.80130217 0.23020027 0.90815659 0.93046281 0.69165953 0.38024097\n",
            " 0.59284244 0.16914019 0.2146946  0.40763768 0.22465627 0.44446006\n",
            " 0.75947771 0.52332605 0.30833823 0.99497766 0.07542547 0.32001631\n",
            " 0.06608745 0.23396028 0.04780572 0.30581776 0.04617442 0.58200037\n",
            " 0.38379419 0.16708123 0.57628605 0.58478069 0.75930384 0.52386815\n",
            " 0.81211206 0.03205202 0.81168316 0.80704717 0.51021541 0.70821855\n",
            " 0.28005143 0.96431301 0.57548408 0.75055935 0.05881674 0.38610101\n",
            " 0.18382249 0.31750101 0.50988919 0.06962324 0.43917841 0.15836779\n",
            " 0.98678726 0.10603045 0.25542674 0.98914247 0.72381651 0.40288568\n",
            " 0.14173807 0.32860429 0.83564943 0.44029331 0.11167251 0.88025348\n",
            " 0.57921073 0.22400328 0.1547141  0.92185676 0.18735321 0.73852466\n",
            " 0.45944615 0.8480094  0.68846072 0.65016362 0.33066885 0.28398652\n",
            " 0.65107797 0.17692015 0.82419992 0.72790531 0.43791068 0.16224328\n",
            " 0.26344074 0.1745938  0.36434462 0.3121538  0.11657169 0.32942404\n",
            " 0.20063569 0.92365264 0.07179434 0.72803686]\n"
          ]
        }
      ]
    },
    {
      "cell_type": "code",
      "source": [
        "dfj = np.random.randn(12)\n",
        "print(dfj)"
      ],
      "metadata": {
        "colab": {
          "base_uri": "https://localhost:8080/"
        },
        "id": "5sMHko_ieZRe",
        "outputId": "f78f2690-14f5-460a-d828-ae8a55188c76"
      },
      "execution_count": 37,
      "outputs": [
        {
          "output_type": "stream",
          "name": "stdout",
          "text": [
            "[-0.60084783  0.82332132  0.47377389  0.44674729 -0.03702207 -0.4876546\n",
            " -0.76907908 -1.09053658  1.5479333  -0.82124767 -0.11380483  0.68727086]\n"
          ]
        }
      ]
    },
    {
      "cell_type": "code",
      "source": [
        "dj = np.random.randn(24)\n",
        "print(dj)"
      ],
      "metadata": {
        "colab": {
          "base_uri": "https://localhost:8080/"
        },
        "id": "qvRoOaYCeks_",
        "outputId": "c91d84a9-b2d1-4995-fe6d-605257de71cb"
      },
      "execution_count": 38,
      "outputs": [
        {
          "output_type": "stream",
          "name": "stdout",
          "text": [
            "[-0.1199707  -1.01124033 -3.04520115 -1.10428305  0.83122393  0.65459365\n",
            " -0.12755932  0.85620713 -1.15101105  0.38453631 -0.02856894  0.0482749\n",
            " -0.48627731  0.42556844  0.04638343 -2.08257493 -0.93586649 -0.35348562\n",
            " -0.04403407 -0.07900762 -0.62997511  0.78493909  0.27123766 -0.09478955]\n"
          ]
        }
      ]
    },
    {
      "cell_type": "code",
      "source": [
        "print(dj)"
      ],
      "metadata": {
        "colab": {
          "base_uri": "https://localhost:8080/"
        },
        "id": "A2XUFtLQerhV",
        "outputId": "0e28a0a9-8afa-4bbe-ce33-fb08fb9c74b0"
      },
      "execution_count": 39,
      "outputs": [
        {
          "output_type": "stream",
          "name": "stdout",
          "text": [
            "[-0.1199707  -1.01124033 -3.04520115 -1.10428305  0.83122393  0.65459365\n",
            " -0.12755932  0.85620713 -1.15101105  0.38453631 -0.02856894  0.0482749\n",
            " -0.48627731  0.42556844  0.04638343 -2.08257493 -0.93586649 -0.35348562\n",
            " -0.04403407 -0.07900762 -0.62997511  0.78493909  0.27123766 -0.09478955]\n"
          ]
        }
      ]
    },
    {
      "cell_type": "code",
      "source": [
        "\n",
        "complex_matrix = np.array([[1 + 2j, 3 - 4j], [5j, 6]])\n",
        "\n",
        "print(\"Complex Matrix:\")\n",
        "print(complex_matrix)\n",
        "print(f\"The dimension: {complex_matrix.ndim}\")\n"
      ],
      "metadata": {
        "colab": {
          "base_uri": "https://localhost:8080/"
        },
        "id": "Acsl5IvMetMH",
        "outputId": "2ea977ed-8c2d-40f6-efd8-dfff0a5c6377"
      },
      "execution_count": 40,
      "outputs": [
        {
          "output_type": "stream",
          "name": "stdout",
          "text": [
            "Complex Matrix:\n",
            "[[1.+2.j 3.-4.j]\n",
            " [0.+5.j 6.+0.j]]\n",
            "The dimension: 2\n"
          ]
        }
      ]
    },
    {
      "cell_type": "code",
      "source": [
        "x = np.array([ [1 ,2 ,3 ,4 , 5 , 6, 7 , 8] , [127382 , 354, 54 , 56556, 656 , 565 ,656,56 ] , [234 , 3545 , 6565 , 77464 , 3434353 , 353535  ,5454 , 43435]])\n",
        "print(x)\n"
      ],
      "metadata": {
        "colab": {
          "base_uri": "https://localhost:8080/"
        },
        "id": "HZ1Fc6wSfDB1",
        "outputId": "4e245ed7-50d6-402e-dcba-94e30019c8fb"
      },
      "execution_count": 42,
      "outputs": [
        {
          "output_type": "stream",
          "name": "stdout",
          "text": [
            "[[      1       2       3       4       5       6       7       8]\n",
            " [ 127382     354      54   56556     656     565     656      56]\n",
            " [    234    3545    6565   77464 3434353  353535    5454   43435]]\n"
          ]
        }
      ]
    },
    {
      "cell_type": "code",
      "source": [
        "sum_of_rowsElement = np.sum(x , axis = 0)\n",
        "sum_of_colsElement = np.sum(x , axis = 1)\n"
      ],
      "metadata": {
        "id": "1w9FLGCvgHla"
      },
      "execution_count": 43,
      "outputs": []
    },
    {
      "cell_type": "code",
      "source": [
        "print(sum_of_rowsElement)\n",
        "print(sum_of_colsElement)\n"
      ],
      "metadata": {
        "colab": {
          "base_uri": "https://localhost:8080/"
        },
        "id": "7RMp0glZgwl4",
        "outputId": "cbed9417-359d-4a10-e492-6330f0c965f3"
      },
      "execution_count": 44,
      "outputs": [
        {
          "output_type": "stream",
          "name": "stdout",
          "text": [
            "[ 127617    3901    6622  134024 3435014  354106    6117   43499]\n",
            "[     36  186279 3924585]\n"
          ]
        }
      ]
    },
    {
      "cell_type": "code",
      "source": [
        "mean_value = np.mean(x)\n",
        "STANDARD_DEVIATION = np.std(x)"
      ],
      "metadata": {
        "id": "p2T-o30Sg44z"
      },
      "execution_count": 45,
      "outputs": []
    },
    {
      "cell_type": "code",
      "source": [
        "print(mean_value)\n",
        "print(STANDARD_DEVIATION)"
      ],
      "metadata": {
        "colab": {
          "base_uri": "https://localhost:8080/"
        },
        "id": "LUz0JrsGhase",
        "outputId": "04857e0d-8771-480e-80a4-1e875e667c6d"
      },
      "execution_count": 46,
      "outputs": [
        {
          "output_type": "stream",
          "name": "stdout",
          "text": [
            "171287.5\n",
            "684440.7858870383\n"
          ]
        }
      ]
    },
    {
      "cell_type": "code",
      "source": [
        "min_value = np.mean(x)\n",
        "max_value = np.max(x)\n",
        "print(min_value)\n",
        "print(max_value)"
      ],
      "metadata": {
        "colab": {
          "base_uri": "https://localhost:8080/"
        },
        "id": "C1YlGXZuhfwf",
        "outputId": "91c9160e-a621-4d11-9c79-ff5bdc1b89bd"
      },
      "execution_count": 47,
      "outputs": [
        {
          "output_type": "stream",
          "name": "stdout",
          "text": [
            "171287.5\n",
            "3434353\n"
          ]
        }
      ]
    },
    {
      "cell_type": "code",
      "source": [
        "argmin_index = np.argmin(x)\n",
        "argmax_index = np.argmax(x)\n",
        "print(argmin_index)\n",
        "print(argmax_index)"
      ],
      "metadata": {
        "colab": {
          "base_uri": "https://localhost:8080/"
        },
        "id": "cnGs_142jHWA",
        "outputId": "59ddf12d-4bfb-4e69-dc1b-4d445bef6ed2"
      },
      "execution_count": 49,
      "outputs": [
        {
          "output_type": "stream",
          "name": "stdout",
          "text": [
            "0\n",
            "20\n"
          ]
        }
      ]
    },
    {
      "cell_type": "code",
      "source": [
        "squared_arr = np.square(x)  # Square each element\n",
        "sqrt_arr = np.sqrt(x)  # Square root of each element\n"
      ],
      "metadata": {
        "id": "ypJveWFEjcdF"
      },
      "execution_count": 51,
      "outputs": []
    },
    {
      "cell_type": "code",
      "source": [
        "print(sqrt_arr)"
      ],
      "metadata": {
        "colab": {
          "base_uri": "https://localhost:8080/"
        },
        "id": "-2KjlaEHjoa0",
        "outputId": "f24d77f6-da32-4509-e30c-e6447b7ab894"
      },
      "execution_count": 54,
      "outputs": [
        {
          "output_type": "stream",
          "name": "stdout",
          "text": [
            "[[1.00000000e+00 1.41421356e+00 1.73205081e+00 2.00000000e+00\n",
            "  2.23606798e+00 2.44948974e+00 2.64575131e+00 2.82842712e+00]\n",
            " [3.56906150e+02 1.88148877e+01 7.34846923e+00 2.37815054e+02\n",
            "  2.56124969e+01 2.37697286e+01 2.56124969e+01 7.48331477e+00]\n",
            " [1.52970585e+01 5.95399026e+01 8.10246876e+01 2.78323553e+02\n",
            "  1.85320074e+03 5.94588093e+02 7.38512018e+01 2.08410652e+02]]\n"
          ]
        }
      ]
    },
    {
      "cell_type": "code",
      "source": [
        "xmin = np.mean(sqrt_arr)\n",
        "xmax = np.max(sqrt_arr)\n",
        "print(xmin)\n",
        "print(xmax)"
      ],
      "metadata": {
        "colab": {
          "base_uri": "https://localhost:8080/"
        },
        "id": "VNKcfqwXjxOw",
        "outputId": "85df0de7-2b4b-4114-8c93-87173c4ec701"
      },
      "execution_count": 53,
      "outputs": [
        {
          "output_type": "stream",
          "name": "stdout",
          "text": [
            "161.82935383362204\n",
            "1853.2007446577395\n"
          ]
        }
      ]
    },
    {
      "cell_type": "code",
      "source": [
        "# min and max value index code :\n",
        "zargmin = np.argmin(sqrt_arr)\n",
        "zargmax = np.argmax(sqrt_arr)\n",
        "print(zargmin)\n",
        "print(zargmin)\n",
        "\n",
        "\n",
        "\n"
      ],
      "metadata": {
        "colab": {
          "base_uri": "https://localhost:8080/"
        },
        "id": "vQ5BXalFkKDE",
        "outputId": "2ec1ba84-cbde-4399-9c33-0f9b561fc410"
      },
      "execution_count": 55,
      "outputs": [
        {
          "output_type": "stream",
          "name": "stdout",
          "text": [
            "0\n",
            "0\n"
          ]
        }
      ]
    },
    {
      "cell_type": "code",
      "source": [
        "print(sqrt_arr)"
      ],
      "metadata": {
        "colab": {
          "base_uri": "https://localhost:8080/"
        },
        "id": "5Pwty3qLk4DE",
        "outputId": "3f9a1a6d-a766-42cf-bded-42c154891253"
      },
      "execution_count": 56,
      "outputs": [
        {
          "output_type": "stream",
          "name": "stdout",
          "text": [
            "[[1.00000000e+00 1.41421356e+00 1.73205081e+00 2.00000000e+00\n",
            "  2.23606798e+00 2.44948974e+00 2.64575131e+00 2.82842712e+00]\n",
            " [3.56906150e+02 1.88148877e+01 7.34846923e+00 2.37815054e+02\n",
            "  2.56124969e+01 2.37697286e+01 2.56124969e+01 7.48331477e+00]\n",
            " [1.52970585e+01 5.95399026e+01 8.10246876e+01 2.78323553e+02\n",
            "  1.85320074e+03 5.94588093e+02 7.38512018e+01 2.08410652e+02]]\n"
          ]
        }
      ]
    },
    {
      "cell_type": "code",
      "source": [
        "Standard_deviation = np.std(sqrt_arr)"
      ],
      "metadata": {
        "id": "zkppLrvGlOTE"
      },
      "execution_count": 57,
      "outputs": []
    },
    {
      "cell_type": "code",
      "source": [
        "print(Standard_deviation)"
      ],
      "metadata": {
        "colab": {
          "base_uri": "https://localhost:8080/"
        },
        "id": "mOGHSkqFlZsy",
        "outputId": "a5118521-511e-4c31-9b60-e49c84436927"
      },
      "execution_count": 59,
      "outputs": [
        {
          "output_type": "stream",
          "name": "stdout",
          "text": [
            "380.9183117648617\n"
          ]
        }
      ]
    },
    {
      "cell_type": "code",
      "source": [],
      "metadata": {
        "id": "Jx0CVa78lejQ"
      },
      "execution_count": null,
      "outputs": []
    }
  ]
}